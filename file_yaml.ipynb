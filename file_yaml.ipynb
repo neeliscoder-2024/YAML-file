{
  "nbformat": 4,
  "nbformat_minor": 0,
  "metadata": {
    "colab": {
      "provenance": []
    },
    "kernelspec": {
      "name": "python3",
      "display_name": "Python 3"
    },
    "language_info": {
      "name": "python"
    }
  },
  "cells": [
    {
      "cell_type": "code",
      "execution_count": 3,
      "metadata": {
        "id": "J7fKDyCbghPZ"
      },
      "outputs": [],
      "source": [
        "resume_yaml = \"\"\"\n",
        "name: Aditya Sahu\n",
        "location: Whitefield, Bangalore\n",
        "contact:\n",
        "  phone: \"6372947003\"\n",
        "  email: \"sahuaditya715@gmail.com\"\n",
        "\n",
        "objective: >\n",
        "  Seeking a position to utilize my skills and abilities in organizations\n",
        "  that offer professional growth while being resourceful, innovative,\n",
        "  flexible, and contributing quality ideas.\n",
        "\n",
        "education:\n",
        "  - institute: GIET University\n",
        "    degree: B-Tech\n",
        "    score: \"83.5%\"\n",
        "  - institute: Aum Valley School\n",
        "    board: CBSE\n",
        "    years: \"2017 – 2019\"\n",
        "    score: \"54.5%\"\n",
        "  - institute: Sri Prakash Vidyaniketan Kapuluppada\n",
        "    board: CBSE\n",
        "    year: \"2017\"\n",
        "    score: \"CGPA 8.8\"\n",
        "\n",
        "profile_summary:\n",
        "  - Trained in cloud computing and full-stack web development\n",
        "  - Hands-on experience with Microsoft Azure, GitHub, and CI/CD pipelines\n",
        "  - Proficient in HTML, CSS, SQL, Python, and Django framework\n",
        "  - Built a Netflix-inspired web application with search, watchlists, and user support\n",
        "  - Focused on responsive design and performance optimization\n",
        "\n",
        "skills:\n",
        "  - Python\n",
        "  - HTML\n",
        "  - CSS\n",
        "  - Django\n",
        "  - Git\n",
        "  - Linux\n",
        "  - Microsoft Azure\n",
        "  - Full Stack Web Development\n",
        "\n",
        "training:\n",
        "  - course: Python Full Stack Web Development\n",
        "    duration: \"2023 – 2024\"\n",
        "    areas:\n",
        "      - Frontend development\n",
        "      - Backend development\n",
        "      - Responsive design\n",
        "      - Authentication and navigation\n",
        "      - Web performance optimization\n",
        "\n",
        "projects:\n",
        "  - name: Netflix-Inspired Web App\n",
        "    features:\n",
        "      - Advanced search\n",
        "      - Watchlist tracking\n",
        "      - User support\n",
        "      - Responsive design\n",
        "      - Authentication\n",
        "\n",
        "note: Personal - Individual Use\n",
        "\"\"\"\n",
        "\n",
        "with open(\"resume.yaml\", \"w\") as file:\n",
        "    file.write(resume_yaml)"
      ]
    },
    {
      "cell_type": "code",
      "source": [],
      "metadata": {
        "id": "_kAX3hOYCIO7"
      },
      "execution_count": null,
      "outputs": []
    }
  ]
}